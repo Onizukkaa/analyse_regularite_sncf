{
 "cells": [
  {
   "cell_type": "code",
   "execution_count": 43,
   "id": "c08cb92e",
   "metadata": {},
   "outputs": [],
   "source": [
    "# Import library\n",
    "import pandas as pd\n",
    "import numpy as np\n",
    "import bar_chart_race as bcr"
   ]
  },
  {
   "cell_type": "code",
   "execution_count": 44,
   "id": "b42df84a",
   "metadata": {},
   "outputs": [],
   "source": [
    "#import csv\n",
    "\n",
    "df = pd.read_csv(\"C:/Users/Utilisateur/Downloads/regularite-mensuelle-intercites.csv\", sep = \";\")"
   ]
  },
  {
   "cell_type": "code",
   "execution_count": 5,
   "id": "7f492fa7",
   "metadata": {},
   "outputs": [
    {
     "data": {
      "text/html": [
       "<div>\n",
       "<style scoped>\n",
       "    .dataframe tbody tr th:only-of-type {\n",
       "        vertical-align: middle;\n",
       "    }\n",
       "\n",
       "    .dataframe tbody tr th {\n",
       "        vertical-align: top;\n",
       "    }\n",
       "\n",
       "    .dataframe thead th {\n",
       "        text-align: right;\n",
       "    }\n",
       "</style>\n",
       "<table border=\"1\" class=\"dataframe\">\n",
       "  <thead>\n",
       "    <tr style=\"text-align: right;\">\n",
       "      <th></th>\n",
       "      <th>Date</th>\n",
       "      <th>Départ</th>\n",
       "      <th>Arrivée</th>\n",
       "      <th>Nombre de trains programmés</th>\n",
       "      <th>Nombre de trains ayant circulé</th>\n",
       "      <th>Nombre de trains annulés</th>\n",
       "      <th>Nombre de trains en retard à l'arrivée</th>\n",
       "      <th>Taux de régularité</th>\n",
       "      <th>Nombre de trains à l'heure pour un train en retard à l'arrivée</th>\n",
       "    </tr>\n",
       "  </thead>\n",
       "  <tbody>\n",
       "    <tr>\n",
       "      <th>0</th>\n",
       "      <td>2022-10</td>\n",
       "      <td>LYON</td>\n",
       "      <td>NANTES</td>\n",
       "      <td>61</td>\n",
       "      <td>60</td>\n",
       "      <td>1</td>\n",
       "      <td>13</td>\n",
       "      <td>78.333333</td>\n",
       "      <td>3.615385</td>\n",
       "    </tr>\n",
       "    <tr>\n",
       "      <th>1</th>\n",
       "      <td>2022-10</td>\n",
       "      <td>NANTES</td>\n",
       "      <td>LYON</td>\n",
       "      <td>61</td>\n",
       "      <td>61</td>\n",
       "      <td>0</td>\n",
       "      <td>11</td>\n",
       "      <td>81.967213</td>\n",
       "      <td>4.545455</td>\n",
       "    </tr>\n",
       "    <tr>\n",
       "      <th>2</th>\n",
       "      <td>2022-10</td>\n",
       "      <td>BORDEAUX-ST-JEAN</td>\n",
       "      <td>MARSEILLE-ST-CHARLES</td>\n",
       "      <td>216</td>\n",
       "      <td>214</td>\n",
       "      <td>2</td>\n",
       "      <td>67</td>\n",
       "      <td>68.691589</td>\n",
       "      <td>2.194030</td>\n",
       "    </tr>\n",
       "    <tr>\n",
       "      <th>3</th>\n",
       "      <td>2022-10</td>\n",
       "      <td>MARSEILLE-ST-CHARLES</td>\n",
       "      <td>BORDEAUX-ST-JEAN</td>\n",
       "      <td>217</td>\n",
       "      <td>216</td>\n",
       "      <td>1</td>\n",
       "      <td>67</td>\n",
       "      <td>68.981481</td>\n",
       "      <td>2.223881</td>\n",
       "    </tr>\n",
       "    <tr>\n",
       "      <th>4</th>\n",
       "      <td>2022-10</td>\n",
       "      <td>CAHORS/BRIVE</td>\n",
       "      <td>PARIS-AUSTERLITZ</td>\n",
       "      <td>189</td>\n",
       "      <td>189</td>\n",
       "      <td>0</td>\n",
       "      <td>28</td>\n",
       "      <td>85.185185</td>\n",
       "      <td>5.750000</td>\n",
       "    </tr>\n",
       "  </tbody>\n",
       "</table>\n",
       "</div>"
      ],
      "text/plain": [
       "      Date                Départ               Arrivée  \\\n",
       "0  2022-10                  LYON                NANTES   \n",
       "1  2022-10                NANTES                  LYON   \n",
       "2  2022-10      BORDEAUX-ST-JEAN  MARSEILLE-ST-CHARLES   \n",
       "3  2022-10  MARSEILLE-ST-CHARLES      BORDEAUX-ST-JEAN   \n",
       "4  2022-10          CAHORS/BRIVE      PARIS-AUSTERLITZ   \n",
       "\n",
       "   Nombre de trains programmés  Nombre de trains ayant circulé  \\\n",
       "0                           61                              60   \n",
       "1                           61                              61   \n",
       "2                          216                             214   \n",
       "3                          217                             216   \n",
       "4                          189                             189   \n",
       "\n",
       "   Nombre de trains annulés  Nombre de trains en retard à l'arrivée  \\\n",
       "0                         1                                      13   \n",
       "1                         0                                      11   \n",
       "2                         2                                      67   \n",
       "3                         1                                      67   \n",
       "4                         0                                      28   \n",
       "\n",
       "   Taux de régularité  \\\n",
       "0           78.333333   \n",
       "1           81.967213   \n",
       "2           68.691589   \n",
       "3           68.981481   \n",
       "4           85.185185   \n",
       "\n",
       "   Nombre de trains à l'heure pour un train en retard à l'arrivée  \n",
       "0                                           3.615385               \n",
       "1                                           4.545455               \n",
       "2                                           2.194030               \n",
       "3                                           2.223881               \n",
       "4                                           5.750000               "
      ]
     },
     "execution_count": 5,
     "metadata": {},
     "output_type": "execute_result"
    }
   ],
   "source": [
    "df.head()"
   ]
  },
  {
   "cell_type": "markdown",
   "id": "0d6affab",
   "metadata": {},
   "source": [
    "# Data prep"
   ]
  },
  {
   "cell_type": "code",
   "execution_count": 6,
   "id": "65e90998",
   "metadata": {},
   "outputs": [
    {
     "data": {
      "text/plain": [
       "Index(['Date', 'Départ', 'Arrivée', 'Nombre de trains programmés',\n",
       "       'Nombre de trains ayant circulé', 'Nombre de trains annulés',\n",
       "       'Nombre de trains en retard à l'arrivée', 'Taux de régularité',\n",
       "       'Nombre de trains à l'heure pour un train en retard à l'arrivée'],\n",
       "      dtype='object')"
      ]
     },
     "execution_count": 6,
     "metadata": {},
     "output_type": "execute_result"
    }
   ],
   "source": [
    "df.columns"
   ]
  },
  {
   "cell_type": "code",
   "execution_count": 8,
   "id": "ceecdaed",
   "metadata": {},
   "outputs": [
    {
     "name": "stdout",
     "output_type": "stream",
     "text": [
      "<class 'pandas.core.frame.DataFrame'>\n",
      "RangeIndex: 4561 entries, 0 to 4560\n",
      "Data columns (total 9 columns):\n",
      " #   Column                                                          Non-Null Count  Dtype  \n",
      "---  ------                                                          --------------  -----  \n",
      " 0   Date                                                            4561 non-null   object \n",
      " 1   Départ                                                          4561 non-null   object \n",
      " 2   Arrivée                                                         4561 non-null   object \n",
      " 3   Nombre de trains programmés                                     4561 non-null   int64  \n",
      " 4   Nombre de trains ayant circulé                                  4561 non-null   int64  \n",
      " 5   Nombre de trains annulés                                        4561 non-null   int64  \n",
      " 6   Nombre de trains en retard à l'arrivée                          4561 non-null   int64  \n",
      " 7   Taux de régularité                                              4561 non-null   float64\n",
      " 8   Nombre de trains à l'heure pour un train en retard à l'arrivée  4561 non-null   float64\n",
      "dtypes: float64(2), int64(4), object(3)\n",
      "memory usage: 320.8+ KB\n"
     ]
    }
   ],
   "source": [
    "df.info()"
   ]
  },
  {
   "cell_type": "code",
   "execution_count": 45,
   "id": "9fd0669a",
   "metadata": {},
   "outputs": [],
   "source": [
    "df = df[[\"Date\", \"Arrivée\", \"Nombre de trains en retard à l'arrivée\"]]"
   ]
  },
  {
   "cell_type": "code",
   "execution_count": 46,
   "id": "ad1a930a",
   "metadata": {
    "scrolled": true
   },
   "outputs": [],
   "source": [
    "df[\"Date_2\"] = pd.to_datetime(df[\"Date\"])"
   ]
  },
  {
   "cell_type": "code",
   "execution_count": 47,
   "id": "d62e6269",
   "metadata": {},
   "outputs": [],
   "source": [
    "df = df.drop(columns = [\"Date\"])"
   ]
  },
  {
   "cell_type": "code",
   "execution_count": 48,
   "id": "31d59452",
   "metadata": {},
   "outputs": [
    {
     "data": {
      "text/html": [
       "<div>\n",
       "<style scoped>\n",
       "    .dataframe tbody tr th:only-of-type {\n",
       "        vertical-align: middle;\n",
       "    }\n",
       "\n",
       "    .dataframe tbody tr th {\n",
       "        vertical-align: top;\n",
       "    }\n",
       "\n",
       "    .dataframe thead th {\n",
       "        text-align: right;\n",
       "    }\n",
       "</style>\n",
       "<table border=\"1\" class=\"dataframe\">\n",
       "  <thead>\n",
       "    <tr style=\"text-align: right;\">\n",
       "      <th></th>\n",
       "      <th>Arrivée</th>\n",
       "      <th>Nombre de trains en retard à l'arrivée</th>\n",
       "      <th>Date_2</th>\n",
       "    </tr>\n",
       "  </thead>\n",
       "  <tbody>\n",
       "    <tr>\n",
       "      <th>0</th>\n",
       "      <td>NANTES</td>\n",
       "      <td>13</td>\n",
       "      <td>2022-10-01</td>\n",
       "    </tr>\n",
       "    <tr>\n",
       "      <th>1</th>\n",
       "      <td>LYON</td>\n",
       "      <td>11</td>\n",
       "      <td>2022-10-01</td>\n",
       "    </tr>\n",
       "    <tr>\n",
       "      <th>2</th>\n",
       "      <td>MARSEILLE-ST-CHARLES</td>\n",
       "      <td>67</td>\n",
       "      <td>2022-10-01</td>\n",
       "    </tr>\n",
       "    <tr>\n",
       "      <th>3</th>\n",
       "      <td>BORDEAUX-ST-JEAN</td>\n",
       "      <td>67</td>\n",
       "      <td>2022-10-01</td>\n",
       "    </tr>\n",
       "    <tr>\n",
       "      <th>4</th>\n",
       "      <td>PARIS-AUSTERLITZ</td>\n",
       "      <td>28</td>\n",
       "      <td>2022-10-01</td>\n",
       "    </tr>\n",
       "  </tbody>\n",
       "</table>\n",
       "</div>"
      ],
      "text/plain": [
       "                Arrivée  Nombre de trains en retard à l'arrivée     Date_2\n",
       "0                NANTES                                      13 2022-10-01\n",
       "1                  LYON                                      11 2022-10-01\n",
       "2  MARSEILLE-ST-CHARLES                                      67 2022-10-01\n",
       "3      BORDEAUX-ST-JEAN                                      67 2022-10-01\n",
       "4      PARIS-AUSTERLITZ                                      28 2022-10-01"
      ]
     },
     "execution_count": 48,
     "metadata": {},
     "output_type": "execute_result"
    }
   ],
   "source": [
    "df.head()"
   ]
  },
  {
   "cell_type": "code",
   "execution_count": 49,
   "id": "b82ac1d4",
   "metadata": {},
   "outputs": [],
   "source": [
    "df['total_retard'] = df.sort_values('Date_2').groupby('Arrivée').cumsum().sort_index()"
   ]
  },
  {
   "cell_type": "code",
   "execution_count": 50,
   "id": "cad00103",
   "metadata": {},
   "outputs": [
    {
     "data": {
      "text/html": [
       "<div>\n",
       "<style scoped>\n",
       "    .dataframe tbody tr th:only-of-type {\n",
       "        vertical-align: middle;\n",
       "    }\n",
       "\n",
       "    .dataframe tbody tr th {\n",
       "        vertical-align: top;\n",
       "    }\n",
       "\n",
       "    .dataframe thead th {\n",
       "        text-align: right;\n",
       "    }\n",
       "</style>\n",
       "<table border=\"1\" class=\"dataframe\">\n",
       "  <thead>\n",
       "    <tr style=\"text-align: right;\">\n",
       "      <th></th>\n",
       "      <th>Arrivée</th>\n",
       "      <th>Nombre de trains en retard à l'arrivée</th>\n",
       "      <th>Date_2</th>\n",
       "      <th>total_retard</th>\n",
       "    </tr>\n",
       "  </thead>\n",
       "  <tbody>\n",
       "    <tr>\n",
       "      <th>0</th>\n",
       "      <td>NANTES</td>\n",
       "      <td>13</td>\n",
       "      <td>2022-10-01</td>\n",
       "      <td>2097</td>\n",
       "    </tr>\n",
       "    <tr>\n",
       "      <th>1</th>\n",
       "      <td>LYON</td>\n",
       "      <td>11</td>\n",
       "      <td>2022-10-01</td>\n",
       "      <td>378</td>\n",
       "    </tr>\n",
       "    <tr>\n",
       "      <th>2</th>\n",
       "      <td>MARSEILLE-ST-CHARLES</td>\n",
       "      <td>67</td>\n",
       "      <td>2022-10-01</td>\n",
       "      <td>3035</td>\n",
       "    </tr>\n",
       "    <tr>\n",
       "      <th>3</th>\n",
       "      <td>BORDEAUX-ST-JEAN</td>\n",
       "      <td>67</td>\n",
       "      <td>2022-10-01</td>\n",
       "      <td>6625</td>\n",
       "    </tr>\n",
       "    <tr>\n",
       "      <th>4</th>\n",
       "      <td>PARIS-AUSTERLITZ</td>\n",
       "      <td>28</td>\n",
       "      <td>2022-10-01</td>\n",
       "      <td>9296</td>\n",
       "    </tr>\n",
       "  </tbody>\n",
       "</table>\n",
       "</div>"
      ],
      "text/plain": [
       "                Arrivée  Nombre de trains en retard à l'arrivée     Date_2  \\\n",
       "0                NANTES                                      13 2022-10-01   \n",
       "1                  LYON                                      11 2022-10-01   \n",
       "2  MARSEILLE-ST-CHARLES                                      67 2022-10-01   \n",
       "3      BORDEAUX-ST-JEAN                                      67 2022-10-01   \n",
       "4      PARIS-AUSTERLITZ                                      28 2022-10-01   \n",
       "\n",
       "   total_retard  \n",
       "0          2097  \n",
       "1           378  \n",
       "2          3035  \n",
       "3          6625  \n",
       "4          9296  "
      ]
     },
     "execution_count": 50,
     "metadata": {},
     "output_type": "execute_result"
    }
   ],
   "source": [
    "df.head()"
   ]
  },
  {
   "cell_type": "code",
   "execution_count": 51,
   "id": "e22e656c",
   "metadata": {},
   "outputs": [],
   "source": [
    "df = df[[\"Date_2\", \"Arrivée\", \"total_retard\"]]"
   ]
  },
  {
   "cell_type": "code",
   "execution_count": 52,
   "id": "33eb9432",
   "metadata": {},
   "outputs": [],
   "source": [
    "df = df.rename(columns = {\"Arrivée\" : \"Gare arrivée\", \"Date_2\" : \"Date\"})"
   ]
  },
  {
   "cell_type": "code",
   "execution_count": 53,
   "id": "774bb5e3",
   "metadata": {},
   "outputs": [
    {
     "data": {
      "text/html": [
       "<div>\n",
       "<style scoped>\n",
       "    .dataframe tbody tr th:only-of-type {\n",
       "        vertical-align: middle;\n",
       "    }\n",
       "\n",
       "    .dataframe tbody tr th {\n",
       "        vertical-align: top;\n",
       "    }\n",
       "\n",
       "    .dataframe thead th {\n",
       "        text-align: right;\n",
       "    }\n",
       "</style>\n",
       "<table border=\"1\" class=\"dataframe\">\n",
       "  <thead>\n",
       "    <tr style=\"text-align: right;\">\n",
       "      <th></th>\n",
       "      <th>Date</th>\n",
       "      <th>Gare arrivée</th>\n",
       "      <th>total_retard</th>\n",
       "    </tr>\n",
       "  </thead>\n",
       "  <tbody>\n",
       "    <tr>\n",
       "      <th>0</th>\n",
       "      <td>2022-10-01</td>\n",
       "      <td>NANTES</td>\n",
       "      <td>2097</td>\n",
       "    </tr>\n",
       "    <tr>\n",
       "      <th>1</th>\n",
       "      <td>2022-10-01</td>\n",
       "      <td>LYON</td>\n",
       "      <td>378</td>\n",
       "    </tr>\n",
       "    <tr>\n",
       "      <th>2</th>\n",
       "      <td>2022-10-01</td>\n",
       "      <td>MARSEILLE-ST-CHARLES</td>\n",
       "      <td>3035</td>\n",
       "    </tr>\n",
       "    <tr>\n",
       "      <th>3</th>\n",
       "      <td>2022-10-01</td>\n",
       "      <td>BORDEAUX-ST-JEAN</td>\n",
       "      <td>6625</td>\n",
       "    </tr>\n",
       "    <tr>\n",
       "      <th>4</th>\n",
       "      <td>2022-10-01</td>\n",
       "      <td>PARIS-AUSTERLITZ</td>\n",
       "      <td>9296</td>\n",
       "    </tr>\n",
       "  </tbody>\n",
       "</table>\n",
       "</div>"
      ],
      "text/plain": [
       "        Date          Gare arrivée  total_retard\n",
       "0 2022-10-01                NANTES          2097\n",
       "1 2022-10-01                  LYON           378\n",
       "2 2022-10-01  MARSEILLE-ST-CHARLES          3035\n",
       "3 2022-10-01      BORDEAUX-ST-JEAN          6625\n",
       "4 2022-10-01      PARIS-AUSTERLITZ          9296"
      ]
     },
     "execution_count": 53,
     "metadata": {},
     "output_type": "execute_result"
    }
   ],
   "source": [
    "df.head()"
   ]
  },
  {
   "cell_type": "code",
   "execution_count": 54,
   "id": "7d7ffdac",
   "metadata": {},
   "outputs": [],
   "source": [
    "df = pd.pivot_table(df, index=['Date'], columns=['Gare arrivée'], values=['total_retard'])"
   ]
  },
  {
   "cell_type": "code",
   "execution_count": 55,
   "id": "d242e817",
   "metadata": {
    "scrolled": false
   },
   "outputs": [
    {
     "data": {
      "text/html": [
       "<div>\n",
       "<style scoped>\n",
       "    .dataframe tbody tr th:only-of-type {\n",
       "        vertical-align: middle;\n",
       "    }\n",
       "\n",
       "    .dataframe tbody tr th {\n",
       "        vertical-align: top;\n",
       "    }\n",
       "\n",
       "    .dataframe thead tr th {\n",
       "        text-align: left;\n",
       "    }\n",
       "\n",
       "    .dataframe thead tr:last-of-type th {\n",
       "        text-align: right;\n",
       "    }\n",
       "</style>\n",
       "<table border=\"1\" class=\"dataframe\">\n",
       "  <thead>\n",
       "    <tr>\n",
       "      <th></th>\n",
       "      <th colspan=\"21\" halign=\"left\">total_retard</th>\n",
       "    </tr>\n",
       "    <tr>\n",
       "      <th>Gare arrivée</th>\n",
       "      <th>AMIENS</th>\n",
       "      <th>BAYONNE</th>\n",
       "      <th>BELFORT</th>\n",
       "      <th>BORDEAUX-ST-JEAN</th>\n",
       "      <th>BOULOGNE-VILLE</th>\n",
       "      <th>BOURG-ST-MAURICE/ST-GERVAIS</th>\n",
       "      <th>BOURGES</th>\n",
       "      <th>BRIANÇON</th>\n",
       "      <th>BRIVE/CAHORS</th>\n",
       "      <th>BÉZIERS</th>\n",
       "      <th>...</th>\n",
       "      <th>RODEZ/ALBI</th>\n",
       "      <th>ROUEN</th>\n",
       "      <th>ROUEN-RIVE-DROITE</th>\n",
       "      <th>ST-QUENTIN</th>\n",
       "      <th>TOULOUSE-MATABIAU</th>\n",
       "      <th>TOULOUSE-MATABIAU/CERBERE</th>\n",
       "      <th>TOULOUSE-MATABIAU/RODEZ</th>\n",
       "      <th>TOURS</th>\n",
       "      <th>TROUVILLE-DEAUVILLE</th>\n",
       "      <th>TROYES</th>\n",
       "    </tr>\n",
       "    <tr>\n",
       "      <th>Date</th>\n",
       "      <th></th>\n",
       "      <th></th>\n",
       "      <th></th>\n",
       "      <th></th>\n",
       "      <th></th>\n",
       "      <th></th>\n",
       "      <th></th>\n",
       "      <th></th>\n",
       "      <th></th>\n",
       "      <th></th>\n",
       "      <th></th>\n",
       "      <th></th>\n",
       "      <th></th>\n",
       "      <th></th>\n",
       "      <th></th>\n",
       "      <th></th>\n",
       "      <th></th>\n",
       "      <th></th>\n",
       "      <th></th>\n",
       "      <th></th>\n",
       "      <th></th>\n",
       "    </tr>\n",
       "  </thead>\n",
       "  <tbody>\n",
       "    <tr>\n",
       "      <th>2014-01-01</th>\n",
       "      <td>53.0</td>\n",
       "      <td>NaN</td>\n",
       "      <td>8.0</td>\n",
       "      <td>26.000000</td>\n",
       "      <td>6.0</td>\n",
       "      <td>NaN</td>\n",
       "      <td>6.0</td>\n",
       "      <td>NaN</td>\n",
       "      <td>NaN</td>\n",
       "      <td>1.0</td>\n",
       "      <td>...</td>\n",
       "      <td>NaN</td>\n",
       "      <td>23.0</td>\n",
       "      <td>NaN</td>\n",
       "      <td>NaN</td>\n",
       "      <td>4.0</td>\n",
       "      <td>NaN</td>\n",
       "      <td>NaN</td>\n",
       "      <td>18.0</td>\n",
       "      <td>13.0</td>\n",
       "      <td>24.0</td>\n",
       "    </tr>\n",
       "    <tr>\n",
       "      <th>2014-02-01</th>\n",
       "      <td>105.0</td>\n",
       "      <td>NaN</td>\n",
       "      <td>20.0</td>\n",
       "      <td>54.666667</td>\n",
       "      <td>10.0</td>\n",
       "      <td>NaN</td>\n",
       "      <td>20.0</td>\n",
       "      <td>NaN</td>\n",
       "      <td>NaN</td>\n",
       "      <td>1.0</td>\n",
       "      <td>...</td>\n",
       "      <td>NaN</td>\n",
       "      <td>53.0</td>\n",
       "      <td>NaN</td>\n",
       "      <td>NaN</td>\n",
       "      <td>8.0</td>\n",
       "      <td>NaN</td>\n",
       "      <td>NaN</td>\n",
       "      <td>57.0</td>\n",
       "      <td>23.0</td>\n",
       "      <td>50.0</td>\n",
       "    </tr>\n",
       "    <tr>\n",
       "      <th>2014-03-01</th>\n",
       "      <td>137.0</td>\n",
       "      <td>NaN</td>\n",
       "      <td>32.0</td>\n",
       "      <td>101.000000</td>\n",
       "      <td>12.0</td>\n",
       "      <td>NaN</td>\n",
       "      <td>30.0</td>\n",
       "      <td>NaN</td>\n",
       "      <td>NaN</td>\n",
       "      <td>1.0</td>\n",
       "      <td>...</td>\n",
       "      <td>NaN</td>\n",
       "      <td>71.0</td>\n",
       "      <td>NaN</td>\n",
       "      <td>NaN</td>\n",
       "      <td>13.0</td>\n",
       "      <td>NaN</td>\n",
       "      <td>NaN</td>\n",
       "      <td>75.0</td>\n",
       "      <td>32.0</td>\n",
       "      <td>80.0</td>\n",
       "    </tr>\n",
       "    <tr>\n",
       "      <th>2014-04-01</th>\n",
       "      <td>171.0</td>\n",
       "      <td>NaN</td>\n",
       "      <td>36.0</td>\n",
       "      <td>149.333333</td>\n",
       "      <td>18.0</td>\n",
       "      <td>NaN</td>\n",
       "      <td>42.0</td>\n",
       "      <td>NaN</td>\n",
       "      <td>NaN</td>\n",
       "      <td>1.0</td>\n",
       "      <td>...</td>\n",
       "      <td>NaN</td>\n",
       "      <td>92.0</td>\n",
       "      <td>NaN</td>\n",
       "      <td>NaN</td>\n",
       "      <td>19.0</td>\n",
       "      <td>NaN</td>\n",
       "      <td>NaN</td>\n",
       "      <td>107.0</td>\n",
       "      <td>41.0</td>\n",
       "      <td>99.0</td>\n",
       "    </tr>\n",
       "    <tr>\n",
       "      <th>2014-05-01</th>\n",
       "      <td>183.0</td>\n",
       "      <td>NaN</td>\n",
       "      <td>82.0</td>\n",
       "      <td>169.666667</td>\n",
       "      <td>33.0</td>\n",
       "      <td>NaN</td>\n",
       "      <td>64.0</td>\n",
       "      <td>NaN</td>\n",
       "      <td>NaN</td>\n",
       "      <td>16.0</td>\n",
       "      <td>...</td>\n",
       "      <td>NaN</td>\n",
       "      <td>97.0</td>\n",
       "      <td>NaN</td>\n",
       "      <td>NaN</td>\n",
       "      <td>31.0</td>\n",
       "      <td>NaN</td>\n",
       "      <td>NaN</td>\n",
       "      <td>139.5</td>\n",
       "      <td>59.0</td>\n",
       "      <td>119.0</td>\n",
       "    </tr>\n",
       "  </tbody>\n",
       "</table>\n",
       "<p>5 rows × 47 columns</p>\n",
       "</div>"
      ],
      "text/plain": [
       "             total_retard                                                  \\\n",
       "Gare arrivée       AMIENS BAYONNE BELFORT BORDEAUX-ST-JEAN BOULOGNE-VILLE   \n",
       "Date                                                                        \n",
       "2014-01-01           53.0     NaN     8.0        26.000000            6.0   \n",
       "2014-02-01          105.0     NaN    20.0        54.666667           10.0   \n",
       "2014-03-01          137.0     NaN    32.0       101.000000           12.0   \n",
       "2014-04-01          171.0     NaN    36.0       149.333333           18.0   \n",
       "2014-05-01          183.0     NaN    82.0       169.666667           33.0   \n",
       "\n",
       "                                                                        \\\n",
       "Gare arrivée BOURG-ST-MAURICE/ST-GERVAIS BOURGES BRIANÇON BRIVE/CAHORS   \n",
       "Date                                                                     \n",
       "2014-01-01                           NaN     6.0      NaN          NaN   \n",
       "2014-02-01                           NaN    20.0      NaN          NaN   \n",
       "2014-03-01                           NaN    30.0      NaN          NaN   \n",
       "2014-04-01                           NaN    42.0      NaN          NaN   \n",
       "2014-05-01                           NaN    64.0      NaN          NaN   \n",
       "\n",
       "                      ...                                                \\\n",
       "Gare arrivée BÉZIERS  ... RODEZ/ALBI ROUEN ROUEN-RIVE-DROITE ST-QUENTIN   \n",
       "Date                  ...                                                 \n",
       "2014-01-01       1.0  ...        NaN  23.0               NaN        NaN   \n",
       "2014-02-01       1.0  ...        NaN  53.0               NaN        NaN   \n",
       "2014-03-01       1.0  ...        NaN  71.0               NaN        NaN   \n",
       "2014-04-01       1.0  ...        NaN  92.0               NaN        NaN   \n",
       "2014-05-01      16.0  ...        NaN  97.0               NaN        NaN   \n",
       "\n",
       "                                                          \\\n",
       "Gare arrivée TOULOUSE-MATABIAU TOULOUSE-MATABIAU/CERBERE   \n",
       "Date                                                       \n",
       "2014-01-01                 4.0                       NaN   \n",
       "2014-02-01                 8.0                       NaN   \n",
       "2014-03-01                13.0                       NaN   \n",
       "2014-04-01                19.0                       NaN   \n",
       "2014-05-01                31.0                       NaN   \n",
       "\n",
       "                                                                        \n",
       "Gare arrivée TOULOUSE-MATABIAU/RODEZ  TOURS TROUVILLE-DEAUVILLE TROYES  \n",
       "Date                                                                    \n",
       "2014-01-01                       NaN   18.0                13.0   24.0  \n",
       "2014-02-01                       NaN   57.0                23.0   50.0  \n",
       "2014-03-01                       NaN   75.0                32.0   80.0  \n",
       "2014-04-01                       NaN  107.0                41.0   99.0  \n",
       "2014-05-01                       NaN  139.5                59.0  119.0  \n",
       "\n",
       "[5 rows x 47 columns]"
      ]
     },
     "execution_count": 55,
     "metadata": {},
     "output_type": "execute_result"
    }
   ],
   "source": [
    "df.head()"
   ]
  },
  {
   "cell_type": "code",
   "execution_count": 28,
   "id": "941fe2a0",
   "metadata": {
    "scrolled": true
   },
   "outputs": [
    {
     "data": {
      "text/plain": [
       "MultiIndex([('total_retard',                      'AMIENS'),\n",
       "            ('total_retard',                     'BAYONNE'),\n",
       "            ('total_retard',                     'BELFORT'),\n",
       "            ('total_retard',            'BORDEAUX-ST-JEAN'),\n",
       "            ('total_retard',              'BOULOGNE-VILLE'),\n",
       "            ('total_retard', 'BOURG-ST-MAURICE/ST-GERVAIS'),\n",
       "            ('total_retard',                     'BOURGES'),\n",
       "            ('total_retard',                    'BRIANÇON'),\n",
       "            ('total_retard',                'BRIVE/CAHORS'),\n",
       "            ('total_retard',                     'BÉZIERS'),\n",
       "            ('total_retard',                        'CAEN'),\n",
       "            ('total_retard',                     'CERBERE'),\n",
       "            ('total_retard',                   'CHERBOURG'),\n",
       "            ('total_retard',            'CLERMONT-FERRAND'),\n",
       "            ('total_retard',                   'GRANVILLE'),\n",
       "            ('total_retard',                     'HENDAYE'),\n",
       "            ('total_retard',             'LATOUR-DE-CAROL'),\n",
       "            ('total_retard',                    'LE HAVRE'),\n",
       "            ('total_retard',                     'LIMOGES'),\n",
       "            ('total_retard',             'LOURDES/HENDAYE'),\n",
       "            ('total_retard',                        'LYON'),\n",
       "            ('total_retard',              'LYON-PART-DIEU'),\n",
       "            ('total_retard',        'MARSEILLE-ST-CHARLES'),\n",
       "            ('total_retard',                    'MAUBEUGE'),\n",
       "            ('total_retard',            'MAUBEUGE/CAMBRAI'),\n",
       "            ('total_retard',                      'MODANE'),\n",
       "            ('total_retard',                      'NANTES'),\n",
       "            ('total_retard',                      'NEVERS'),\n",
       "            ('total_retard',                  'NICE-VILLE'),\n",
       "            ('total_retard',                       'NÎMES'),\n",
       "            ('total_retard',                     'ORLÉANS'),\n",
       "            ('total_retard',            'PARIS-AUSTERLITZ'),\n",
       "            ('total_retard',                 'PARIS-BERCY'),\n",
       "            ('total_retard',                   'PARIS-EST'),\n",
       "            ('total_retard',                  'PARIS-NORD'),\n",
       "            ('total_retard',             'PARIS-ST-LAZARE'),\n",
       "            ('total_retard',             'PARIS-VAUGIRARD'),\n",
       "            ('total_retard',                  'RODEZ/ALBI'),\n",
       "            ('total_retard',                       'ROUEN'),\n",
       "            ('total_retard',           'ROUEN-RIVE-DROITE'),\n",
       "            ('total_retard',                  'ST-QUENTIN'),\n",
       "            ('total_retard',           'TOULOUSE-MATABIAU'),\n",
       "            ('total_retard',   'TOULOUSE-MATABIAU/CERBERE'),\n",
       "            ('total_retard',     'TOULOUSE-MATABIAU/RODEZ'),\n",
       "            ('total_retard',                       'TOURS'),\n",
       "            ('total_retard',         'TROUVILLE-DEAUVILLE'),\n",
       "            ('total_retard',                      'TROYES')],\n",
       "           names=[None, 'Gare arrivée'])"
      ]
     },
     "execution_count": 28,
     "metadata": {},
     "output_type": "execute_result"
    }
   ],
   "source": [
    "df.columns"
   ]
  },
  {
   "cell_type": "code",
   "execution_count": 56,
   "id": "d56cb948",
   "metadata": {},
   "outputs": [],
   "source": [
    "df.index.name = None\n",
    "df.columns = [col[1] for col in df.columns]"
   ]
  },
  {
   "cell_type": "code",
   "execution_count": 57,
   "id": "49770500",
   "metadata": {},
   "outputs": [
    {
     "data": {
      "text/plain": [
       "(106, 47)"
      ]
     },
     "execution_count": 57,
     "metadata": {},
     "output_type": "execute_result"
    }
   ],
   "source": [
    "df.shape"
   ]
  },
  {
   "cell_type": "code",
   "execution_count": 58,
   "id": "d49df722",
   "metadata": {},
   "outputs": [],
   "source": [
    "df = df.fillna(0).astype(int)"
   ]
  },
  {
   "cell_type": "code",
   "execution_count": 36,
   "id": "8648327f",
   "metadata": {},
   "outputs": [],
   "source": [
    "# 10 first gare\n",
    "\n",
    "gare = set()\n",
    "for index, row in df.iterrows():\n",
    "    gare |= set(row[row > 0].sort_values(ascending=False).head(10).index)\n",
    "df = df[list(gare)]"
   ]
  },
  {
   "cell_type": "code",
   "execution_count": 62,
   "id": "37709e99",
   "metadata": {},
   "outputs": [
    {
     "data": {
      "text/plain": [
       "Index(['AMIENS', 'BAYONNE', 'BELFORT', 'BORDEAUX-ST-JEAN', 'BOULOGNE-VILLE',\n",
       "       'BOURG-ST-MAURICE/ST-GERVAIS', 'BOURGES', 'BRIANÇON', 'BRIVE/CAHORS',\n",
       "       'BÉZIERS', 'CAEN', 'CERBERE', 'CHERBOURG', 'CLERMONT-FERRAND',\n",
       "       'GRANVILLE', 'HENDAYE', 'LATOUR-DE-CAROL', 'LE HAVRE', 'LIMOGES',\n",
       "       'LOURDES/HENDAYE', 'LYON', 'LYON-PART-DIEU', 'MARSEILLE-ST-CHARLES',\n",
       "       'MAUBEUGE', 'MAUBEUGE/CAMBRAI', 'MODANE', 'NANTES', 'NEVERS',\n",
       "       'NICE-VILLE', 'NÎMES', 'ORLÉANS', 'PARIS-AUSTERLITZ', 'PARIS-BERCY',\n",
       "       'PARIS-EST', 'PARIS-NORD', 'PARIS-ST-LAZARE', 'PARIS-VAUGIRARD',\n",
       "       'RODEZ/ALBI', 'ROUEN', 'ROUEN-RIVE-DROITE', 'ST-QUENTIN',\n",
       "       'TOULOUSE-MATABIAU', 'TOULOUSE-MATABIAU/CERBERE',\n",
       "       'TOULOUSE-MATABIAU/RODEZ', 'TOURS', 'TROUVILLE-DEAUVILLE', 'TROYES'],\n",
       "      dtype='object')"
      ]
     },
     "execution_count": 62,
     "metadata": {},
     "output_type": "execute_result"
    }
   ],
   "source": [
    "df.columns"
   ]
  },
  {
   "cell_type": "markdown",
   "id": "a98848e5",
   "metadata": {},
   "source": [
    "# Generate video"
   ]
  },
  {
   "cell_type": "code",
   "execution_count": 61,
   "id": "4f181971",
   "metadata": {},
   "outputs": [
    {
     "name": "stderr",
     "output_type": "stream",
     "text": [
      "C:\\Users\\Utilisateur\\anaconda3\\envs\\IA\\lib\\site-packages\\matplotlib\\animation.py:887: UserWarning: Animation was deleted without rendering anything. This is most likely not intended. To prevent deletion, assign the Animation to a variable, e.g. `anim`, that exists until you have outputted the Animation using `plt.show()` or `anim.save()`.\n",
      "  warnings.warn(\n",
      "C:\\Users\\Utilisateur\\anaconda3\\envs\\IA\\lib\\site-packages\\bar_chart_race\\_make_chart.py:286: UserWarning: FixedFormatter should only be used together with FixedLocator\n",
      "  ax.set_yticklabels(self.df_values.columns)\n",
      "C:\\Users\\Utilisateur\\anaconda3\\envs\\IA\\lib\\site-packages\\bar_chart_race\\_make_chart.py:287: UserWarning: FixedFormatter should only be used together with FixedLocator\n",
      "  ax.set_xticklabels([max_val] * len(ax.get_xticks()))\n",
      "C:\\Users\\Utilisateur\\anaconda3\\envs\\IA\\lib\\site-packages\\bar_chart_race\\_make_chart.py:226: UserWarning: Some of your columns never make an appearance in the animation. To reduce color repetition, set `filter_column_colors` to `True`\n",
      "  warnings.warn(\"Some of your columns never make an appearance in the animation. \"\n"
     ]
    }
   ],
   "source": [
    "bcr.bar_chart_race(\n",
    "    df=df,\n",
    "    filename=\"Retard_train_sncf_2.mp4\",\n",
    "    n_bars=10,\n",
    "    period_fmt='%B %d, %Y',\n",
    "    title='Retard des trains SNCF depuis 2014'\n",
    ")"
   ]
  },
  {
   "cell_type": "code",
   "execution_count": null,
   "id": "b1da211b",
   "metadata": {},
   "outputs": [],
   "source": []
  }
 ],
 "metadata": {
  "kernelspec": {
   "display_name": "Python 3 (ipykernel)",
   "language": "python",
   "name": "python3"
  },
  "language_info": {
   "codemirror_mode": {
    "name": "ipython",
    "version": 3
   },
   "file_extension": ".py",
   "mimetype": "text/x-python",
   "name": "python",
   "nbconvert_exporter": "python",
   "pygments_lexer": "ipython3",
   "version": "3.9.13"
  }
 },
 "nbformat": 4,
 "nbformat_minor": 5
}
